{
 "cells": [
  {
   "cell_type": "markdown",
   "id": "0fc7cf1c-c0c5-4534-b38a-2fabd6059e9a",
   "metadata": {},
   "source": [
    "## This file combine all bike data together for each station"
   ]
  },
  {
   "cell_type": "markdown",
   "id": "6d402a5c-3575-4567-a649-8506eb18dd7c",
   "metadata": {},
   "source": [
    "### Import packages and setting up envionment"
   ]
  },
  {
   "cell_type": "code",
   "execution_count": null,
   "id": "372674cf-435d-49ed-8451-72e9f72de405",
   "metadata": {},
   "outputs": [],
   "source": [
    "# Import Python packages \n",
    "import pandas as pd\n",
    "import os\n",
    "import glob\n",
    "import csv"
   ]
  },
  {
   "cell_type": "code",
   "execution_count": null,
   "id": "0d4112a0-bbed-4514-a13f-9cddb32e257c",
   "metadata": {},
   "outputs": [],
   "source": [
    "# checking the current working directory\n",
    "print(os.getcwd())"
   ]
  },
  {
   "cell_type": "code",
   "execution_count": null,
   "id": "4d30b241-9ea2-4437-a90e-1cecc4754784",
   "metadata": {},
   "outputs": [],
   "source": [
    "class CombineData:\n",
    "    \n",
    "    def combine(self, station_id, dic):\n",
    "        file_path_list = self.locate_file(station_id)\n",
    "        full_data_rows_list = self.extract(file_path_list)\n",
    "        self.create_csv(full_data_rows_list, station_id, dic)\n",
    "        \n",
    "    \n",
    "    def locate_file(self, station_id):\n",
    "        # Get the current folder and subfolder station data\n",
    "        directory = '/bike_data/raw-data/' +  str(station_id)\n",
    "        filepath = os.getcwd() + directory\n",
    "\n",
    "        # Create a for loop to create a list of files and collect each filepath\n",
    "        for root, dirs, files in os.walk(filepath):\n",
    "            # join the file path and roots with the subdirectories using glob\n",
    "            file_path_list = glob.glob(os.path.join(root,'*'))\n",
    "        \n",
    "        return file_path_list\n",
    "    \n",
    "    \n",
    "    def extract(self, file_path_list):\n",
    "        # initiating an empty list of rows that will be generated from each file\n",
    "        full_data_rows_list = [] \n",
    "\n",
    "        # for every filepath in the file path list \n",
    "        for f in file_path_list:\n",
    "\n",
    "            # reading csv file \n",
    "            with open(f, 'r', encoding = 'utf8', newline='') as csvfile: \n",
    "                # creating a csv reader object \n",
    "                csvreader = csv.reader(csvfile) \n",
    "                next(csvreader)\n",
    "\n",
    "                # extracting each data row one by one and append it        \n",
    "                for line in csvreader:\n",
    "                    full_data_rows_list.append(line) \n",
    "                    \n",
    "        return full_data_rows_list\n",
    "    \n",
    "    def create_csv(self, full_data_rows_list, station_id, dic):\n",
    "        # creating a csv file that combines all data for a given station\n",
    "        csv.register_dialect('myDialect', quoting=csv.QUOTE_ALL, skipinitialspace=True)\n",
    "        \n",
    "        filename = './bike_data/ungrouped_bike/' + str(station_id) + '.csv'\n",
    "        station_name = str(station_id) + '_' + dic[station_id]\n",
    "        with open(filename, 'w', encoding = 'utf8', newline='') as f:\n",
    "            writer = csv.writer(f, dialect='myDialect')\n",
    "            writer.writerow(['Datetime', station_name])\n",
    "            for row in full_data_rows_list:\n",
    "                writer.writerow((row[0], row[1]))"
   ]
  },
  {
   "cell_type": "code",
   "execution_count": null,
   "id": "35218fa8-8b17-4736-aa1e-597b47f9a6e4",
   "metadata": {},
   "outputs": [],
   "source": [
    "d = {31297: 'Promenade',\n",
    "#      31300: 'Hafenstraße',\n",
    "     34978: 'Gartenstraße',\n",
    "     34980: 'Hammer_Straße',\n",
    "     34981: 'Weseler_Straße',\n",
    "     34982: 'Hüfferstraße',\n",
    "     34983: 'Warendorfer_Straße',\n",
    "     35541: 'Neutor',\n",
    "     53305: 'Kanalpromenade'}"
   ]
  },
  {
   "cell_type": "code",
   "execution_count": null,
   "id": "dc06b4be-08e4-4b83-85f8-5341b9fff5b4",
   "metadata": {},
   "outputs": [],
   "source": [
    "for each in d:\n",
    "    c = CombineData()\n",
    "    c.combine(each, d)"
   ]
  }
 ],
 "metadata": {
  "kernelspec": {
   "display_name": "intro",
   "language": "python",
   "name": "intro"
  },
  "language_info": {
   "codemirror_mode": {
    "name": "ipython",
    "version": 3
   },
   "file_extension": ".py",
   "mimetype": "text/x-python",
   "name": "python",
   "nbconvert_exporter": "python",
   "pygments_lexer": "ipython3",
   "version": "3.8.11"
  }
 },
 "nbformat": 4,
 "nbformat_minor": 5
}
