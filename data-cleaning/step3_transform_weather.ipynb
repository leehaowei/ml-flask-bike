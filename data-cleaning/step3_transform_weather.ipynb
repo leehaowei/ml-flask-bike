{
 "cells": [
  {
   "cell_type": "markdown",
   "id": "2e868835-728f-4528-8b7a-bf1ec8d937ef",
   "metadata": {},
   "source": [
    "## This file combine and cleaned the weather data"
   ]
  },
  {
   "cell_type": "code",
   "execution_count": null,
   "id": "fdccc0e9-57df-4c24-afee-78a8fa1cc608",
   "metadata": {},
   "outputs": [],
   "source": [
    "import pandas as pd"
   ]
  },
  {
   "cell_type": "code",
   "execution_count": null,
   "id": "ddcebb87-2ba9-4be4-8476-bd079c5496a4",
   "metadata": {},
   "outputs": [],
   "source": [
    "path_1 = './weather_data/weather_01.txt'"
   ]
  },
  {
   "cell_type": "code",
   "execution_count": null,
   "id": "fbe587d5-cbfe-437b-bdce-a0d3e42f9616",
   "metadata": {},
   "outputs": [],
   "source": [
    "def transform_weather(path):\n",
    "    df = pd.read_csv(path, sep=\";\")\n",
    "    df = df[['MESS_DATUM', 'TT_TU', 'RF_TU']]\n",
    "    df = df.rename(columns={\"MESS_DATUM\": \"Datetime\", \"TT_TU\": \"Temperature(°C)\", \"RF_TU\": \"humidity(%)\"})\n",
    "    df['Datetime'] = df['Datetime'].astype('str')\n",
    "    df['datetime'] = df['Datetime'].apply(lambda x: x[:4]+'/'+x[4:6]+'/'+x[6:8]+'/'+x[8:10])\n",
    "    df['Date'] = pd.to_datetime(df['datetime'])\n",
    "    df[\"Year\"] = df[\"Date\"].dt.year\n",
    "    df[\"Month\"] = df[\"Date\"].dt.month\n",
    "    df[\"Day\"] = df[\"Date\"].dt.day\n",
    "    df[\"Hour\"] = df[\"Date\"].dt.hour\n",
    "    df = df.drop(\"datetime\", axis=1)\n",
    "    df = df.drop(\"Date\", axis=1)\n",
    "    \n",
    "    filt = df['Year'] >= 2019\n",
    "    df = df[filt]\n",
    "    \n",
    "    df = df.iloc[4344:,:]\n",
    "    df = df[['Year', 'Month', 'Day', 'Hour', 'Temperature(°C)', 'humidity(%)']]\n",
    "    df['humidity(%)'] = df['humidity(%)'].astype(int)\n",
    "    df = df.reset_index(drop=True)\n",
    "    df = df.iloc[:-1824,:]\n",
    "    return df"
   ]
  },
  {
   "cell_type": "code",
   "execution_count": null,
   "id": "c247c384-abed-4e95-a6a6-a60fe47789a6",
   "metadata": {},
   "outputs": [],
   "source": [
    "df1 = transform_weather(path_1)"
   ]
  },
  {
   "cell_type": "code",
   "execution_count": null,
   "id": "36f20841-0355-4544-a479-d0c2e6abbaad",
   "metadata": {},
   "outputs": [],
   "source": [
    "path_2 = './weather_data/weather_02.txt'\n",
    "df2 = transform_weather(path_2)"
   ]
  },
  {
   "cell_type": "code",
   "execution_count": null,
   "id": "bb3d7924-c93b-43c6-9569-d11c10df093e",
   "metadata": {},
   "outputs": [],
   "source": [
    "combined = pd.concat([df1, df2])"
   ]
  },
  {
   "cell_type": "code",
   "execution_count": null,
   "id": "aa8bbcc6-1484-423d-a1ec-353a05ee1343",
   "metadata": {},
   "outputs": [],
   "source": [
    "combined"
   ]
  },
  {
   "cell_type": "code",
   "execution_count": null,
   "id": "ae2895bc-9111-4652-b317-00902f4dbf1a",
   "metadata": {},
   "outputs": [],
   "source": [
    "combined.to_csv('./weather_data/weather_cleaned.csv', index=False)"
   ]
  }
 ],
 "metadata": {
  "kernelspec": {
   "display_name": "Python 3.8.5 64-bit ('base': conda)",
   "language": "python",
   "name": "python3810jvsc74a57bd0f85c0ae1067a86ad6a96b144378883e79fd1516474b579ba33ee3a7084540002"
  },
  "language_info": {
   "codemirror_mode": {
    "name": "ipython",
    "version": 3
   },
   "file_extension": ".py",
   "mimetype": "text/x-python",
   "name": "python",
   "nbconvert_exporter": "python",
   "pygments_lexer": "ipython3",
   "version": "3.8.10"
  }
 },
 "nbformat": 4,
 "nbformat_minor": 5
}
