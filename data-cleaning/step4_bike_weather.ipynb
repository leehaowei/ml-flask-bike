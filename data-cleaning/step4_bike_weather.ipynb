{
 "cells": [
  {
   "cell_type": "markdown",
   "id": "d0cd99e1-a625-4c30-9dc3-5f6aec15e6d0",
   "metadata": {},
   "source": [
    "## This file combine the bike and weather data and create a csv file for data analysis"
   ]
  },
  {
   "cell_type": "code",
   "execution_count": null,
   "id": "08809950-7e89-4b73-a61f-6d7ef51cf7f2",
   "metadata": {},
   "outputs": [],
   "source": [
    "import pandas as pd"
   ]
  },
  {
   "cell_type": "code",
   "execution_count": null,
   "id": "c25f41dc-4635-466f-a66b-fc0724547170",
   "metadata": {},
   "outputs": [],
   "source": [
    "all_ = ['31297', '34978', '34980', '34981',\n",
    "       '34982', '34983', '35541', '53305']"
   ]
  },
  {
   "cell_type": "code",
   "execution_count": null,
   "id": "ed2d995a-5509-4ad3-84db-23ed79b1c43a",
   "metadata": {},
   "outputs": [],
   "source": [
    "def merge_all(all_, weather):\n",
    "    final = weather.copy()\n",
    "    for a in all_:\n",
    "        csv = './bike_data/grouped_bike/' + a + '_cleaned.csv' \n",
    "        bike_data = pd.read_csv(csv)\n",
    "\n",
    "        final = final.merge(bike_data, on=['Year','Month','Day','Hour'], how='left')\n",
    "    \n",
    "    for a in all_:\n",
    "        col = a + '_Bike_Count'\n",
    "        filt = final[col].notnull()\n",
    "        final = final[filt]           # there are some missing values in bike count\n",
    "    \n",
    "    for a in all_:\n",
    "        col = a + '_Bike_Count'\n",
    "        final[col] = final[col].astype(int)\n",
    "        \n",
    "    final = final.reset_index(drop=True)\n",
    "    return final"
   ]
  },
  {
   "cell_type": "code",
   "execution_count": null,
   "id": "d404122d-238c-4007-aa3b-7023fefbab5f",
   "metadata": {},
   "outputs": [],
   "source": [
    "weather = pd.read_csv('./weather_data/weather_cleaned.csv')\n",
    "final = merge_all(all_, weather)"
   ]
  },
  {
   "cell_type": "code",
   "execution_count": null,
   "id": "9b317dfe-0f01-4111-b8c8-151d90c4ffcc",
   "metadata": {},
   "outputs": [],
   "source": [
    "final"
   ]
  },
  {
   "cell_type": "code",
   "execution_count": null,
   "id": "92fb62ef-51a2-4324-b958-a0b0e46d3ee0",
   "metadata": {},
   "outputs": [],
   "source": [
    "final['Total_Bike_Count'] = final['31297_Bike_Count'] + final['34978_Bike_Count'] + final['34980_Bike_Count'] + final['34981_Bike_Count'] + \\\n",
    "                            final['34982_Bike_Count'] + final['34983_Bike_Count'] + final['35541_Bike_Count'] + final['53305_Bike_Count']\n",
    "final.columns"
   ]
  },
  {
   "cell_type": "code",
   "execution_count": null,
   "id": "038501d3-f139-4f4c-9722-b64849741426",
   "metadata": {},
   "outputs": [],
   "source": [
    "final = final[['Year', 'Month', 'Day', 'Hour', 'Temperature(°C)', 'humidity(%)', 'Total_Bike_Count',\n",
    "               '31297_Bike_Count', '34978_Bike_Count', '34980_Bike_Count','34981_Bike_Count', \n",
    "               '34982_Bike_Count', '34983_Bike_Count', '35541_Bike_Count', '53305_Bike_Count']]\n",
    "final"
   ]
  },
  {
   "cell_type": "code",
   "execution_count": null,
   "id": "0c27403b-56ab-4cce-b690-4a3cb6eb290f",
   "metadata": {},
   "outputs": [],
   "source": [
    "filename = 'cleaned_data.csv'\n",
    "final.to_csv(filename, index=False)"
   ]
  }
 ],
 "metadata": {
  "kernelspec": {
   "display_name": "Python 3.8.5 64-bit ('base': conda)",
   "language": "python",
   "name": "python3810jvsc74a57bd0f85c0ae1067a86ad6a96b144378883e79fd1516474b579ba33ee3a7084540002"
  },
  "language_info": {
   "codemirror_mode": {
    "name": "ipython",
    "version": 3
   },
   "file_extension": ".py",
   "mimetype": "text/x-python",
   "name": "python",
   "nbconvert_exporter": "python",
   "pygments_lexer": "ipython3",
   "version": "3.8.10"
  }
 },
 "nbformat": 4,
 "nbformat_minor": 5
}
