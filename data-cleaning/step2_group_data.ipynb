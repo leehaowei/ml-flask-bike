{
 "cells": [
  {
   "cell_type": "markdown",
   "id": "164720b2-acaf-41b0-a963-84d591f8778d",
   "metadata": {},
   "source": [
    "## This file group data by each hour for each station"
   ]
  },
  {
   "cell_type": "code",
   "execution_count": null,
   "id": "a6064424-402a-4611-9367-5905f58df26d",
   "metadata": {},
   "outputs": [],
   "source": [
    "import numpy as np\n",
    "import pandas as pd"
   ]
  },
  {
   "cell_type": "code",
   "execution_count": null,
   "id": "d05bee5a-4866-4d4d-a9d8-7b0d0213f329",
   "metadata": {},
   "outputs": [],
   "source": [
    "class GroupData:\n",
    "    \n",
    "    def group(self, path, station):\n",
    "        # sort_date\n",
    "        df = pd.read_csv(path)\n",
    "        day_col = df[\"Datetime\"]\n",
    "        day_dt = pd.to_datetime(day_col)\n",
    "        df[\"Date\"] = day_dt\n",
    "        df[\"Year\"] = df[\"Date\"].dt.year\n",
    "        df[\"Month\"] = df[\"Date\"].dt.month\n",
    "        df[\"Day\"] = df[\"Date\"].dt.day\n",
    "        df[\"Hour\"] = df[\"Date\"].dt.hour\n",
    "        df = df.drop(\"Datetime\", axis=1)       # drop the Datetime which is in str type\n",
    "        cols = list(df.columns)\n",
    "        cols = cols[-4:] + cols[:-4]\n",
    "        df = df[cols]\n",
    "        df_sorted = df.sort_values(by=\"Date\")\n",
    "        df_sorted = df.reset_index(drop=True)\n",
    "        \n",
    "        # group data\n",
    "        df_group = df_sorted.copy()\n",
    "        group_col = df_group.columns[4]\n",
    "        gp_object = df_group.groupby([\"Year\", \"Month\", \"Day\", \"Hour\"]).agg(count=(group_col, 'sum'))\n",
    "        df_group = pd.DataFrame(gp_object).reset_index()\n",
    "        rename = station + \"_Bike_Count\"\n",
    "        df_group = df_group.rename(columns={\"count\": rename})\n",
    "        return df_group"
   ]
  },
  {
   "cell_type": "code",
   "execution_count": null,
   "id": "9727c670-73c7-4ca4-9d99-7b79aecd33cc",
   "metadata": {},
   "outputs": [],
   "source": [
    "stations = ['31297', '34978', '34980', '34981',\n",
    "            '34982', '34983', '35541', '53305']"
   ]
  },
  {
   "cell_type": "code",
   "execution_count": null,
   "id": "ad7957a4-eaf8-4b65-bbb4-a6dee7a8ffda",
   "metadata": {},
   "outputs": [],
   "source": [
    "g = GroupData()\n",
    "for s in stations:\n",
    "    path = \"./bike_data/ungrouped_bike/\" + s + \".csv\"\n",
    "    df = g.group(path, s)\n",
    "    filename = './bike_data/grouped_bike/' + s + \"_cleaned.csv\"\n",
    "    df.to_csv(filename, index=False)"
   ]
  }
 ],
 "metadata": {
  "kernelspec": {
   "display_name": "intro",
   "language": "python",
   "name": "intro"
  },
  "language_info": {
   "codemirror_mode": {
    "name": "ipython",
    "version": 3
   },
   "file_extension": ".py",
   "mimetype": "text/x-python",
   "name": "python",
   "nbconvert_exporter": "python",
   "pygments_lexer": "ipython3",
   "version": "3.8.11"
  }
 },
 "nbformat": 4,
 "nbformat_minor": 5
}
